{
 "cells": [
  {
   "cell_type": "markdown",
   "id": "badad25e-e686-4912-a7a9-e2da76c76c26",
   "metadata": {},
   "source": [
    "Can we determine which variables are likely important for customer to churn?\n",
    "\n",
    "This analysis will help Stakeholders to know which customers are most likely to churn and make decisions to improve the service based on the variable that affect the customer to churn."
   ]
  },
  {
   "cell_type": "markdown",
   "id": "bc365895-2c48-4000-bf91-f7779e453271",
   "metadata": {},
   "source": [
    "SUMMARY OF ASSUMPTIONS:\n",
    "- Binary logistic regression requires the dependent variable to be binary and same for ordinal logistic regression the dependent variable must be ordinal.\n",
    "- The independent variables are not highly (multicollinearity) correlated to each other.\n",
    "- Observations are selected independently.\n",
    "- logistic regression assumes the linearity between independent variables and log odds.\n",
    "- Logistic regression requires a large sample size."
   ]
  },
  {
   "cell_type": "markdown",
   "id": "767e022e-3980-49fe-842d-675cffe8aa85",
   "metadata": {},
   "source": [
    "APPROPRIATE TECHNIQUE:\n",
    "- Logistic regression is an appropriate technique to analyze the binary or ordinal variables. And since my research question is trying to predict the probability of binary dependent variable with Yes/NO"
   ]
  },
  {
   "cell_type": "markdown",
   "id": "059f1caf-109e-4989-b543-14ad48c07adb",
   "metadata": {},
   "source": [
    "DATA GOALS:\n",
    "- Import Python libraries that will be used for data preparation and manipulation.\n",
    "- Import dataset into Python dataframe\n",
    "- Check for missing and duplicate data for nulls and remove duplicates.\n",
    "- For ordinal variables with scale of 1 to 8 such as the survey responses variables, rename the variables with meaningful names and include them in the analysis.\n",
    "- Drop irrelevant variables that will not be used in the regression.\n",
    "- Convert categorical variables to numerical variables to be able to use them in the regression using get_dummies function."
   ]
  },
  {
   "cell_type": "markdown",
   "id": "1a43dd99-7202-4958-ab4f-9a8f260a9d93",
   "metadata": {},
   "source": [
    "SUMMARY STATISTICS:\n",
    "- The data contains of 10,000 rows and 50 variables.\n",
    "- The target variable is Churn, and the predictor variables are all variables such as some of the customer demographics information (Children, Age, Gender, Income) and some other categorical variables that represent customer preferences. Also, the analysis will include variables that represents some services can be improved and controlled by the company them such as Internet Service, Device Protection and Multiple services also will include the survey responses variables that show customer feedback in scale from 1 to 8.\n",
    "- Convert all binomial variables to 1 and 0 including the dependent variable.\n",
    "- Use the describe function to get some summary statistics about the data such as count, mean, Standard deviation, minimum and maximum."
   ]
  },
  {
   "cell_type": "markdown",
   "id": "cb9344eb-fc65-4b24-9267-061e42b28447",
   "metadata": {},
   "source": [
    "STEPS TO PREPARE THE DATA:\n",
    "- Import dataset into Python dataframe.\n",
    "- Describe the dataframe statistics.\n",
    "- Rename survey variables with more meaningful names.\n",
    "- Drop variables that will not contribute to the regression analysis.\n",
    "- Check for missing or duplicate data\n",
    "- Convert categorical variables to numerical by replace “Yes/No” with “1/0” numerical values."
   ]
  },
  {
   "cell_type": "code",
   "execution_count": 1,
   "id": "dbfdf759-a1ab-45e0-b496-5b0200f2ef6e",
   "metadata": {},
   "outputs": [],
   "source": [
    "import pandas as pd\n",
    "import numpy as np\n",
    "import statsmodels.api as sm\n",
    "from sklearn import linear_model\n",
    "import seaborn as sns\n",
    "import matplotlib.pyplot as plt\n",
    "%matplotlib inline"
   ]
  },
  {
   "cell_type": "code",
   "execution_count": 2,
   "id": "9ddb8816-5988-45c0-aa3b-98b1c5d17d70",
   "metadata": {},
   "outputs": [],
   "source": [
    "#load the dataset in the form of pandas dataframe\n",
    "df= pd.read_csv('churn_clean.csv')"
   ]
  },
  {
   "cell_type": "code",
   "execution_count": 3,
   "id": "f651a384-6e41-4591-be3e-3c45d5e9d5f7",
   "metadata": {},
   "outputs": [],
   "source": [
    "#Rename survey responses column names\n",
    "df.rename(columns = {'Item1':'Timely_Responses','Item2':'Timely_Fixes', \n",
    "                           'Item3':'Timely_Replacements','Item4':'Reliability', \n",
    "                           'Item5':'Options','Item6':'Respectful_responses', \n",
    "                           'Item7':'Courteous_exchange','Item8':'Active_listening'},\n",
    "                inplace=True)"
   ]
  },
  {
   "cell_type": "code",
   "execution_count": 4,
   "id": "235d06fe-4caf-46ef-925f-af19cc20b756",
   "metadata": {},
   "outputs": [],
   "source": [
    "#Drop columns that will not be used\n",
    "df = df.drop(['CaseOrder','Customer_id','Interaction','UID','City','State','County','Zip','Lat','Lng','Population', \n",
    "              'Area', 'TimeZone', 'Job', 'Marital','PaymentMethod'] , axis=1)"
   ]
  },
  {
   "cell_type": "code",
   "execution_count": 5,
   "id": "ddcc6011-1d60-4992-99f3-988feb74ec52",
   "metadata": {},
   "outputs": [
    {
     "name": "stdout",
     "output_type": "stream",
     "text": [
      "Index(['Children', 'Age', 'Income', 'Gender', 'Churn', 'Outage_sec_perweek',\n",
      "       'Email', 'Contacts', 'Yearly_equip_failure', 'Techie', 'Contract',\n",
      "       'Port_modem', 'Tablet', 'InternetService', 'Phone', 'Multiple',\n",
      "       'OnlineSecurity', 'OnlineBackup', 'DeviceProtection', 'TechSupport',\n",
      "       'StreamingTV', 'StreamingMovies', 'PaperlessBilling', 'Tenure',\n",
      "       'MonthlyCharge', 'Bandwidth_GB_Year', 'Timely_Responses',\n",
      "       'Timely_Fixes', 'Timely_Replacements', 'Reliability', 'Options',\n",
      "       'Respectful_responses', 'Courteous_exchange', 'Active_listening'],\n",
      "      dtype='object')\n"
     ]
    }
   ],
   "source": [
    "#List the Dataframe Columns after update\n",
    "print(df.columns)"
   ]
  },
  {
   "cell_type": "code",
   "execution_count": 6,
   "id": "ae909ae9-e84a-4f73-a570-50f9802f9131",
   "metadata": {},
   "outputs": [
    {
     "name": "stdout",
     "output_type": "stream",
     "text": [
      "Children                0\n",
      "Age                     0\n",
      "Income                  0\n",
      "Gender                  0\n",
      "Churn                   0\n",
      "Outage_sec_perweek      0\n",
      "Email                   0\n",
      "Contacts                0\n",
      "Yearly_equip_failure    0\n",
      "Techie                  0\n",
      "Contract                0\n",
      "Port_modem              0\n",
      "Tablet                  0\n",
      "InternetService         0\n",
      "Phone                   0\n",
      "Multiple                0\n",
      "OnlineSecurity          0\n",
      "OnlineBackup            0\n",
      "DeviceProtection        0\n",
      "TechSupport             0\n",
      "StreamingTV             0\n",
      "StreamingMovies         0\n",
      "PaperlessBilling        0\n",
      "Tenure                  0\n",
      "MonthlyCharge           0\n",
      "Bandwidth_GB_Year       0\n",
      "Timely_Responses        0\n",
      "Timely_Fixes            0\n",
      "Timely_Replacements     0\n",
      "Reliability             0\n",
      "Options                 0\n",
      "Respectful_responses    0\n",
      "Courteous_exchange      0\n",
      "Active_listening        0\n",
      "dtype: int64\n"
     ]
    }
   ],
   "source": [
    "#Discover if any missing data\n",
    "print(df.isnull().sum())"
   ]
  },
  {
   "cell_type": "code",
   "execution_count": 7,
   "id": "2a4380be-6d17-42a0-8fcc-21bf662e4366",
   "metadata": {},
   "outputs": [],
   "source": [
    "df=pd.get_dummies(df)"
   ]
  },
  {
   "cell_type": "code",
   "execution_count": 8,
   "id": "29ba7997-c0ab-4d72-8009-a4ebb99e62c7",
   "metadata": {},
   "outputs": [
    {
     "name": "stdout",
     "output_type": "stream",
     "text": [
      "Index(['Children', 'Age', 'Income', 'Outage_sec_perweek', 'Email', 'Contacts',\n",
      "       'Yearly_equip_failure', 'Tenure', 'MonthlyCharge', 'Bandwidth_GB_Year',\n",
      "       'Timely_Responses', 'Timely_Fixes', 'Timely_Replacements',\n",
      "       'Reliability', 'Options', 'Respectful_responses', 'Courteous_exchange',\n",
      "       'Active_listening', 'Gender_Female', 'Gender_Male', 'Gender_Nonbinary',\n",
      "       'Churn_No', 'Churn_Yes', 'Techie_No', 'Techie_Yes',\n",
      "       'Contract_Month-to-month', 'Contract_One year', 'Contract_Two Year',\n",
      "       'Port_modem_No', 'Port_modem_Yes', 'Tablet_No', 'Tablet_Yes',\n",
      "       'InternetService_DSL', 'InternetService_Fiber Optic',\n",
      "       'InternetService_None', 'Phone_No', 'Phone_Yes', 'Multiple_No',\n",
      "       'Multiple_Yes', 'OnlineSecurity_No', 'OnlineSecurity_Yes',\n",
      "       'OnlineBackup_No', 'OnlineBackup_Yes', 'DeviceProtection_No',\n",
      "       'DeviceProtection_Yes', 'TechSupport_No', 'TechSupport_Yes',\n",
      "       'StreamingTV_No', 'StreamingTV_Yes', 'StreamingMovies_No',\n",
      "       'StreamingMovies_Yes', 'PaperlessBilling_No', 'PaperlessBilling_Yes'],\n",
      "      dtype='object')\n"
     ]
    }
   ],
   "source": [
    "print(df.columns)"
   ]
  },
  {
   "cell_type": "code",
   "execution_count": 9,
   "id": "e6068022-56a4-450e-908a-1202459927cf",
   "metadata": {},
   "outputs": [],
   "source": [
    "df = df.drop(['Gender_Female', 'Gender_Nonbinary','Churn_No','Techie_No','Contract_Month-to-month', \n",
    "              'Contract_One year','Port_modem_No','Tablet_No','InternetService_Fiber Optic',\n",
    "              'InternetService_None','Phone_No','Multiple_No', 'OnlineSecurity_No','OnlineBackup_No',\n",
    "              'DeviceProtection_No', 'TechSupport_No','StreamingTV_No','StreamingMovies_No','PaperlessBilling_No'] , axis=1)"
   ]
  },
  {
   "cell_type": "code",
   "execution_count": 10,
   "id": "ae986734-2257-41bb-8d49-a6a9d12ee7bf",
   "metadata": {},
   "outputs": [
    {
     "name": "stdout",
     "output_type": "stream",
     "text": [
      "         Children           Age         Income  Outage_sec_perweek  \\\n",
      "count  10000.0000  10000.000000   10000.000000        10000.000000   \n",
      "mean       2.0877     53.078400   39806.926771           10.001848   \n",
      "std        2.1472     20.698882   28199.916702            2.976019   \n",
      "min        0.0000     18.000000     348.670000            0.099747   \n",
      "25%        0.0000     35.000000   19224.717500            8.018214   \n",
      "50%        1.0000     53.000000   33170.605000           10.018560   \n",
      "75%        3.0000     71.000000   53246.170000           11.969485   \n",
      "max       10.0000     89.000000  258900.700000           21.207230   \n",
      "\n",
      "              Email      Contacts  Yearly_equip_failure        Tenure  \\\n",
      "count  10000.000000  10000.000000          10000.000000  10000.000000   \n",
      "mean      12.016000      0.994200              0.398000     34.526188   \n",
      "std        3.025898      0.988466              0.635953     26.443063   \n",
      "min        1.000000      0.000000              0.000000      1.000259   \n",
      "25%       10.000000      0.000000              0.000000      7.917694   \n",
      "50%       12.000000      1.000000              0.000000     35.430507   \n",
      "75%       14.000000      2.000000              1.000000     61.479795   \n",
      "max       23.000000      7.000000              6.000000     71.999280   \n",
      "\n",
      "       MonthlyCharge  Bandwidth_GB_Year  ...  InternetService_DSL  \\\n",
      "count   10000.000000       10000.000000  ...         10000.000000   \n",
      "mean      172.624816        3392.341550  ...             0.346300   \n",
      "std        42.943094        2185.294852  ...             0.475814   \n",
      "min        79.978860         155.506715  ...             0.000000   \n",
      "25%       139.979239        1236.470827  ...             0.000000   \n",
      "50%       167.484700        3279.536903  ...             0.000000   \n",
      "75%       200.734725        5586.141370  ...             1.000000   \n",
      "max       290.160419        7158.981530  ...             1.000000   \n",
      "\n",
      "          Phone_Yes  Multiple_Yes  OnlineSecurity_Yes  OnlineBackup_Yes  \\\n",
      "count  10000.000000  10000.000000        10000.000000      10000.000000   \n",
      "mean       0.906700      0.460800            0.357600          0.450600   \n",
      "std        0.290867      0.498486            0.479317          0.497579   \n",
      "min        0.000000      0.000000            0.000000          0.000000   \n",
      "25%        1.000000      0.000000            0.000000          0.000000   \n",
      "50%        1.000000      0.000000            0.000000          0.000000   \n",
      "75%        1.000000      1.000000            1.000000          1.000000   \n",
      "max        1.000000      1.000000            1.000000          1.000000   \n",
      "\n",
      "       DeviceProtection_Yes  TechSupport_Yes  StreamingTV_Yes  \\\n",
      "count          10000.000000     10000.000000     10000.000000   \n",
      "mean               0.438600         0.375000         0.492900   \n",
      "std                0.496241         0.484147         0.499975   \n",
      "min                0.000000         0.000000         0.000000   \n",
      "25%                0.000000         0.000000         0.000000   \n",
      "50%                0.000000         0.000000         0.000000   \n",
      "75%                1.000000         1.000000         1.000000   \n",
      "max                1.000000         1.000000         1.000000   \n",
      "\n",
      "       StreamingMovies_Yes  PaperlessBilling_Yes  \n",
      "count         10000.000000          10000.000000  \n",
      "mean              0.489000              0.588200  \n",
      "std               0.499904              0.492184  \n",
      "min               0.000000              0.000000  \n",
      "25%               0.000000              0.000000  \n",
      "50%               0.000000              1.000000  \n",
      "75%               1.000000              1.000000  \n",
      "max               1.000000              1.000000  \n",
      "\n",
      "[8 rows x 34 columns]\n"
     ]
    }
   ],
   "source": [
    "print(df.describe())"
   ]
  },
  {
   "cell_type": "code",
   "execution_count": 11,
   "id": "78c90852-7877-4480-9255-196dc07d94ee",
   "metadata": {},
   "outputs": [
    {
     "data": {
      "image/png": "[encoded data removed]",
      "text/plain": [
       "<Figure size 1080x720 with 12 Axes>"
      ]
     },
     "metadata": {
      "needs_background": "light"
     },
     "output_type": "display_data"
    }
   ],
   "source": [
    "#histograms of contiuous variables\n",
    "df[['Children', 'Age', 'Income', 'Outage_sec_perweek', 'Email',\n",
    "'Contacts', 'Yearly_equip_failure', 'Tenure', 'MonthlyCharge',\n",
    "'Bandwidth_GB_Year']].hist(figsize=(15, 10))\n",
    "plt.show()"
   ]
  },
  {
   "cell_type": "code",
   "execution_count": 12,
   "id": "4b4b1e6f-41ce-4215-9a5c-65f8fb85262a",
   "metadata": {},
   "outputs": [
    {
     "name": "stdout",
     "output_type": "stream",
     "text": [
      "Index(['Children', 'Age', 'Income', 'Outage_sec_perweek', 'Email', 'Contacts',\n",
      "       'Yearly_equip_failure', 'Tenure', 'MonthlyCharge', 'Bandwidth_GB_Year',\n",
      "       'Timely_Responses', 'Timely_Fixes', 'Timely_Replacements',\n",
      "       'Reliability', 'Options', 'Respectful_responses', 'Courteous_exchange',\n",
      "       'Active_listening', 'Gender_Male', 'Churn_Yes', 'Techie_Yes',\n",
      "       'Contract_Two Year', 'Port_modem_Yes', 'Tablet_Yes',\n",
      "       'InternetService_DSL', 'Phone_Yes', 'Multiple_Yes',\n",
      "       'OnlineSecurity_Yes', 'OnlineBackup_Yes', 'DeviceProtection_Yes',\n",
      "       'TechSupport_Yes', 'StreamingTV_Yes', 'StreamingMovies_Yes',\n",
      "       'PaperlessBilling_Yes'],\n",
      "      dtype='object')\n"
     ]
    }
   ],
   "source": [
    "#List the prepared dataset Columns \n",
    "print(df.columns)"
   ]
  },
  {
   "cell_type": "code",
   "execution_count": 17,
   "id": "3fc56f4d-f36f-4ee8-bcb6-85e9714f5c35",
   "metadata": {},
   "outputs": [],
   "source": [
    "#Export prepared data set to csv\n",
    "df.to_csv('prepared_data.csv')"
   ]
  },
  {
   "cell_type": "code",
   "execution_count": 18,
   "id": "138886f6-95e2-40c5-8dd8-0a82dc260d85",
   "metadata": {},
   "outputs": [],
   "source": [
    "df= pd.read_csv('prepared_data.csv')"
   ]
  },
  {
   "cell_type": "code",
   "execution_count": 19,
   "id": "3489bb46-910e-4c53-abe8-d97cf2062e57",
   "metadata": {},
   "outputs": [],
   "source": [
    "df = df.drop(['Unnamed: 0'] , axis=1)"
   ]
  },
  {
   "cell_type": "code",
   "execution_count": 20,
   "id": "ea542d7e-c679-4523-8c45-16671bdc1c6e",
   "metadata": {},
   "outputs": [
    {
     "name": "stdout",
     "output_type": "stream",
     "text": [
      "Optimization terminated successfully.\n",
      "         Current function value: 0.271355\n",
      "         Iterations 8\n",
      "                           Logit Regression Results                           \n",
      "==============================================================================\n",
      "Dep. Variable:              Churn_Yes   No. Observations:                10000\n",
      "Model:                          Logit   Df Residuals:                     9966\n",
      "Method:                           MLE   Df Model:                           33\n",
      "Date:                Thu, 03 Nov 2022   Pseudo R-squ.:                  0.5307\n",
      "Time:                        10:06:22   Log-Likelihood:                -2713.6\n",
      "converged:                       True   LL-Null:                       -5782.2\n",
      "Covariance Type:            nonrobust   LLR p-value:                     0.000\n",
      "========================================================================================\n",
      "                           coef    std err          z      P>|z|      [0.025      0.975]\n",
      "----------------------------------------------------------------------------------------\n",
      "Children                -0.2745      0.051     -5.338      0.000      -0.375      -0.174\n",
      "Age                      0.0322      0.005      5.925      0.000       0.022       0.043\n",
      "Income                3.507e-07   1.22e-06      0.287      0.774   -2.05e-06    2.75e-06\n",
      "Outage_sec_perweek       0.0006      0.012      0.049      0.961      -0.022       0.023\n",
      "Email                   -0.0017      0.011     -0.152      0.879      -0.024       0.021\n",
      "Contacts                 0.0274      0.035      0.791      0.429      -0.041       0.095\n",
      "Yearly_equip_failure    -0.0333      0.054     -0.612      0.540      -0.140       0.073\n",
      "Tenure                  -0.8337      0.130     -6.428      0.000      -1.088      -0.579\n",
      "MonthlyCharge            0.0032      0.003      1.149      0.250      -0.002       0.009\n",
      "Bandwidth_GB_Year        0.0090      0.002      5.730      0.000       0.006       0.012\n",
      "Timely_Responses        -0.0191      0.049     -0.390      0.696      -0.115       0.077\n",
      "Timely_Fixes             0.0226      0.046      0.490      0.624      -0.068       0.113\n",
      "Timely_Replacements     -0.0164      0.042     -0.391      0.696      -0.099       0.066\n",
      "Reliability             -0.0197      0.037     -0.528      0.598      -0.093       0.053\n",
      "Options                 -0.0286      0.039     -0.733      0.464      -0.105       0.048\n",
      "Respectful_responses    -0.0339      0.040     -0.848      0.396      -0.112       0.044\n",
      "Courteous_exchange       0.0039      0.038      0.102      0.919      -0.071       0.079\n",
      "Active_listening        -0.0080      0.036     -0.221      0.825      -0.079       0.063\n",
      "Gender_Male             -0.3583      0.122     -2.930      0.003      -0.598      -0.119\n",
      "Techie_Yes               0.8186      0.090      9.140      0.000       0.643       0.994\n",
      "Contract_Two Year       -2.2794      0.102    -22.285      0.000      -2.480      -2.079\n",
      "Port_modem_Yes           0.1536      0.069      2.236      0.025       0.019       0.288\n",
      "Tablet_Yes              -0.0727      0.075     -0.973      0.330      -0.219       0.074\n",
      "InternetService_DSL     -2.6500      0.670     -3.956      0.000      -3.963      -1.337\n",
      "Phone_Yes               -0.3306      0.117     -2.822      0.005      -0.560      -0.101\n",
      "Multiple_Yes             0.5699      0.125      4.569      0.000       0.325       0.814\n",
      "OnlineSecurity_Yes      -0.7956      0.135     -5.873      0.000      -1.061      -0.530\n",
      "OnlineBackup_Yes        -0.2648      0.145     -1.830      0.067      -0.549       0.019\n",
      "DeviceProtection_Yes    -0.5259      0.138     -3.814      0.000      -0.796      -0.256\n",
      "TechSupport_Yes          0.1696      0.077      2.208      0.027       0.019       0.320\n",
      "StreamingTV_Yes          0.1295      0.327      0.397      0.692      -0.511       0.770\n",
      "StreamingMovies_Yes      0.7389      0.296      2.498      0.012       0.159       1.319\n",
      "PaperlessBilling_Yes     0.1099      0.070      1.574      0.115      -0.027       0.247\n",
      "Intercept               -4.1650      0.459     -9.083      0.000      -5.064      -3.266\n",
      "========================================================================================\n"
     ]
    }
   ],
   "source": [
    "#Initial Logistic regression model\n",
    "df['Intercept'] = 1\n",
    "mdl = sm.Logit(df['Churn_Yes'], df[['Children','Age','Income','Outage_sec_perweek','Email','Contacts',\n",
    "                                  'Yearly_equip_failure','Tenure','MonthlyCharge','Bandwidth_GB_Year',\n",
    "                                  'Timely_Responses','Timely_Fixes','Timely_Replacements','Reliability',\n",
    "                                  'Options', 'Respectful_responses', 'Courteous_exchange','Active_listening',\n",
    "                                  'Gender_Male', 'Techie_Yes','Contract_Two Year', 'Port_modem_Yes', \n",
    "                                  'Tablet_Yes','InternetService_DSL', 'Phone_Yes', 'Multiple_Yes','OnlineSecurity_Yes',\n",
    "                                  'OnlineBackup_Yes', 'DeviceProtection_Yes','TechSupport_Yes', 'StreamingTV_Yes',\n",
    "                                  'StreamingMovies_Yes','PaperlessBilling_Yes','Intercept']]).fit()\n",
    "print(mdl.summary())"
   ]
  },
  {
   "cell_type": "markdown",
   "id": "7ff88ba6-8640-41a8-a0ed-987bb6cbc809",
   "metadata": {},
   "source": [
    "JUSTIFICATION OF MODEL REDUCTION:\n",
    "- Based on the above model, the result of the R-squ and the coefficients of the variables are very low.\n",
    "- all variables with p-value less than 0.05 will be included in the reduced model as they can be statistically significant.\n",
    "- Heatmap show the correlation between selected variables for the reduced model and the target variable.\n",
    "Variable\n",
    "P>|z|\n",
    "Children\n",
    "0.000\n",
    "Age\n",
    "0.000\n",
    "Tenure\n",
    "0.000\n",
    "Bandwidth_GB_Year\n",
    "0.000\n",
    "Gender_Male\n",
    "0.003\n",
    "Techie_Yes\n",
    "0.000\n",
    "Contract_Two\n",
    "0.000\n",
    "Port_modem_Yes\n",
    "0.025\n",
    "InternetService_DSL\n",
    "0.000\n",
    "Phone_Yes\n",
    "0.005\n",
    "Multiple_Yes\n",
    "0.000\n",
    "OnlineSecurity_Yes\n",
    "0.000\n",
    "DeviceProtection_Yes\n",
    "0.000\n",
    "TechSupport_Yes\n",
    "0.027\n",
    "StreamingMovies_Yes\n",
    "0.012"
   ]
  },
  {
   "cell_type": "code",
   "execution_count": 21,
   "id": "32008cfb-d158-4c93-92eb-14feb76d950b",
   "metadata": {},
   "outputs": [
    {
     "data": {
      "image/png": "[encoded data removed]",
      "text/plain": [
       "<Figure size 432x288 with 2 Axes>"
      ]
     },
     "metadata": {
      "needs_background": "light"
     },
     "output_type": "display_data"
    }
   ],
   "source": [
    "sns.heatmap(df.corr(),annot = False)\n",
    "plt.show()"
   ]
  },
  {
   "cell_type": "code",
   "execution_count": 22,
   "id": "fcee6490-0433-46e9-89ef-d545d7363f7d",
   "metadata": {},
   "outputs": [
    {
     "name": "stdout",
     "output_type": "stream",
     "text": [
      "Optimization terminated successfully.\n",
      "         Current function value: 0.272580\n",
      "         Iterations 8\n",
      "                           Logit Regression Results                           \n",
      "==============================================================================\n",
      "Dep. Variable:              Churn_Yes   No. Observations:                10000\n",
      "Model:                          Logit   Df Residuals:                     9984\n",
      "Method:                           MLE   Df Model:                           15\n",
      "Date:                Thu, 03 Nov 2022   Pseudo R-squ.:                  0.5286\n",
      "Time:                        10:07:27   Log-Likelihood:                -2725.8\n",
      "converged:                       True   LL-Null:                       -5782.2\n",
      "Covariance Type:            nonrobust   LLR p-value:                     0.000\n",
      "========================================================================================\n",
      "                           coef    std err          z      P>|z|      [0.025      0.975]\n",
      "----------------------------------------------------------------------------------------\n",
      "Children                -0.2939      0.019    -15.511      0.000      -0.331      -0.257\n",
      "Age                      0.0344      0.002     17.257      0.000       0.030       0.038\n",
      "Tenure                  -0.8883      0.028    -31.839      0.000      -0.943      -0.834\n",
      "Bandwidth_GB_Year        0.0097      0.000     29.918      0.000       0.009       0.010\n",
      "Gender_Male             -0.3938      0.071     -5.560      0.000      -0.533      -0.255\n",
      "Techie_Yes               0.8200      0.089      9.197      0.000       0.645       0.995\n",
      "Contract_Two Year       -2.2628      0.101    -22.318      0.000      -2.462      -2.064\n",
      "Port_modem_Yes           0.1544      0.068      2.255      0.024       0.020       0.289\n",
      "InternetService_DSL     -2.9596      0.142    -20.812      0.000      -3.238      -2.681\n",
      "Phone_Yes               -0.3399      0.116     -2.926      0.003      -0.568      -0.112\n",
      "Multiple_Yes             0.6240      0.071      8.810      0.000       0.485       0.763\n",
      "OnlineSecurity_Yes      -0.8425      0.076    -11.130      0.000      -0.991      -0.694\n",
      "DeviceProtection_Yes    -0.5401      0.073     -7.381      0.000      -0.684      -0.397\n",
      "TechSupport_Yes          0.1967      0.070      2.798      0.005       0.059       0.335\n",
      "StreamingMovies_Yes      0.7496      0.085      8.816      0.000       0.583       0.916\n",
      "Intercept               -4.3230      0.205    -21.084      0.000      -4.725      -3.921\n",
      "========================================================================================\n"
     ]
    }
   ],
   "source": [
    "#Reduced Logistic Regression Model\n",
    "df['Intercept'] = 1\n",
    "mdl_reduced = sm.Logit(df['Churn_Yes'], df[['Children','Age','Tenure','Bandwidth_GB_Year','Gender_Male',\n",
    "                                    'Techie_Yes','Contract_Two Year', 'Port_modem_Yes','InternetService_DSL',\n",
    "                                    'Phone_Yes', 'Multiple_Yes','OnlineSecurity_Yes','DeviceProtection_Yes',\n",
    "                                    'TechSupport_Yes','StreamingMovies_Yes','Intercept']]).fit()\n",
    "print(mdl_reduced.summary())"
   ]
  },
  {
   "cell_type": "markdown",
   "id": "569219e6-7f9d-440b-b201-95f5edda7b49",
   "metadata": {},
   "source": [
    "The first logistic regression model with 33 independent variables shows R-squ value = 0.5307 (53% of variance) and after reduced the regression model to use 15 independent variables the R-squ value = 0.5286 (52.8% of variance) which is very close to the initial R-squ value even after reduced the number of independent variables to almost the half."
   ]
  },
  {
   "cell_type": "markdown",
   "id": "c8c0f0af-f9d3-4005-aefb-9ee834d7e237",
   "metadata": {},
   "source": [
    "- Confusion Matrix with variables from the reduced model"
   ]
  },
  {
   "cell_type": "code",
   "execution_count": 24,
   "id": "b09ee620-43fa-4b2d-89db-4630bc2db291",
   "metadata": {},
   "outputs": [],
   "source": [
    "df_cm= pd.read_csv('prepared_data.csv')"
   ]
  },
  {
   "cell_type": "code",
   "execution_count": 25,
   "id": "c776f836-e53a-4304-b641-d893620b9221",
   "metadata": {},
   "outputs": [],
   "source": [
    "X = df_cm[['Children','Age','Tenure','Bandwidth_GB_Year','Gender_Male',\n",
    "                                    'Techie_Yes','Contract_Two Year', 'Port_modem_Yes','InternetService_DSL',\n",
    "                                    'Phone_Yes', 'Multiple_Yes','OnlineSecurity_Yes','DeviceProtection_Yes',\n",
    "                                    'TechSupport_Yes','StreamingMovies_Yes']]\n",
    "y = df_cm['Churn_Yes']"
   ]
  },
  {
   "cell_type": "code",
   "execution_count": 26,
   "id": "74049855-a3f1-4a22-9743-8e1e7de326b2",
   "metadata": {},
   "outputs": [],
   "source": [
    "from sklearn.model_selection import train_test_split\n",
    "X_train, X_test, y_train, y_test = train_test_split(X, y, test_size=0.2, random_state=0)"
   ]
  },
  {
   "cell_type": "code",
   "execution_count": 27,
   "id": "e3da0d93-1344-4ca7-b2ba-0e82f9b7481a",
   "metadata": {},
   "outputs": [
    {
     "data": {
      "text/html": [
       "<style>#sk-container-id-1 {color: black;background-color: white;}#sk-container-id-1 pre{padding: 0;}#sk-container-id-1 div.sk-toggleable {background-color: white;}#sk-container-id-1 label.sk-toggleable__label {cursor: pointer;display: block;width: 100%;margin-bottom: 0;padding: 0.3em;box-sizing: border-box;text-align: center;}#sk-container-id-1 label.sk-toggleable__label-arrow:before {content: \"▸\";float: left;margin-right: 0.25em;color: #696969;}#sk-container-id-1 label.sk-toggleable__label-arrow:hover:before {color: black;}#sk-container-id-1 div.sk-estimator:hover label.sk-toggleable__label-arrow:before {color: black;}#sk-container-id-1 div.sk-toggleable__content {max-height: 0;max-width: 0;overflow: hidden;text-align: left;background-color: #f0f8ff;}#sk-container-id-1 div.sk-toggleable__content pre {margin: 0.2em;color: black;border-radius: 0.25em;background-color: #f0f8ff;}#sk-container-id-1 input.sk-toggleable__control:checked~div.sk-toggleable__content {max-height: 200px;max-width: 100%;overflow: auto;}#sk-container-id-1 input.sk-toggleable__control:checked~label.sk-toggleable__label-arrow:before {content: \"▾\";}#sk-container-id-1 div.sk-estimator input.sk-toggleable__control:checked~label.sk-toggleable__label {background-color: #d4ebff;}#sk-container-id-1 div.sk-label input.sk-toggleable__control:checked~label.sk-toggleable__label {background-color: #d4ebff;}#sk-container-id-1 input.sk-hidden--visually {border: 0;clip: rect(1px 1px 1px 1px);clip: rect(1px, 1px, 1px, 1px);height: 1px;margin: -1px;overflow: hidden;padding: 0;position: absolute;width: 1px;}#sk-container-id-1 div.sk-estimator {font-family: monospace;background-color: #f0f8ff;border: 1px dotted black;border-radius: 0.25em;box-sizing: border-box;margin-bottom: 0.5em;}#sk-container-id-1 div.sk-estimator:hover {background-color: #d4ebff;}#sk-container-id-1 div.sk-parallel-item::after {content: \"\";width: 100%;border-bottom: 1px solid gray;flex-grow: 1;}#sk-container-id-1 div.sk-label:hover label.sk-toggleable__label {background-color: #d4ebff;}#sk-container-id-1 div.sk-serial::before {content: \"\";position: absolute;border-left: 1px solid gray;box-sizing: border-box;top: 0;bottom: 0;left: 50%;z-index: 0;}#sk-container-id-1 div.sk-serial {display: flex;flex-direction: column;align-items: center;background-color: white;padding-right: 0.2em;padding-left: 0.2em;position: relative;}#sk-container-id-1 div.sk-item {position: relative;z-index: 1;}#sk-container-id-1 div.sk-parallel {display: flex;align-items: stretch;justify-content: center;background-color: white;position: relative;}#sk-container-id-1 div.sk-item::before, #sk-container-id-1 div.sk-parallel-item::before {content: \"\";position: absolute;border-left: 1px solid gray;box-sizing: border-box;top: 0;bottom: 0;left: 50%;z-index: -1;}#sk-container-id-1 div.sk-parallel-item {display: flex;flex-direction: column;z-index: 1;position: relative;background-color: white;}#sk-container-id-1 div.sk-parallel-item:first-child::after {align-self: flex-end;width: 50%;}#sk-container-id-1 div.sk-parallel-item:last-child::after {align-self: flex-start;width: 50%;}#sk-container-id-1 div.sk-parallel-item:only-child::after {width: 0;}#sk-container-id-1 div.sk-dashed-wrapped {border: 1px dashed gray;margin: 0 0.4em 0.5em 0.4em;box-sizing: border-box;padding-bottom: 0.4em;background-color: white;}#sk-container-id-1 div.sk-label label {font-family: monospace;font-weight: bold;display: inline-block;line-height: 1.2em;}#sk-container-id-1 div.sk-label-container {text-align: center;}#sk-container-id-1 div.sk-container {/* jupyter's `normalize.less` sets `[hidden] { display: none; }` but bootstrap.min.css set `[hidden] { display: none !important; }` so we also need the `!important` here to be able to override the default hidden behavior on the sphinx rendered scikit-learn.org. See: https://github.com/scikit-learn/scikit-learn/issues/21755 */display: inline-block !important;position: relative;}#sk-container-id-1 div.sk-text-repr-fallback {display: none;}</style><div id=\"sk-container-id-1\" class=\"sk-top-container\"><div class=\"sk-text-repr-fallback\"><pre>LogisticRegression(random_state=0, solver=&#x27;liblinear&#x27;)</pre><b>In a Jupyter environment, please rerun this cell to show the HTML representation or trust the notebook. <br />On GitHub, the HTML representation is unable to render, please try loading this page with nbviewer.org.</b></div><div class=\"sk-container\" hidden><div class=\"sk-item\"><div class=\"sk-estimator sk-toggleable\"><input class=\"sk-toggleable__control sk-hidden--visually\" id=\"sk-estimator-id-1\" type=\"checkbox\" checked><label for=\"sk-estimator-id-1\" class=\"sk-toggleable__label sk-toggleable__label-arrow\">LogisticRegression</label><div class=\"sk-toggleable__content\"><pre>LogisticRegression(random_state=0, solver=&#x27;liblinear&#x27;)</pre></div></div></div></div></div>"
      ],
      "text/plain": [
       "LogisticRegression(random_state=0, solver='liblinear')"
      ]
     },
     "execution_count": 27,
     "metadata": {},
     "output_type": "execute_result"
    }
   ],
   "source": [
    "from sklearn.linear_model import LogisticRegression\n",
    "logmodel = LogisticRegression(solver='liblinear', random_state=0)\n",
    "logmodel.fit(X_train, y_train)"
   ]
  },
  {
   "cell_type": "code",
   "execution_count": 28,
   "id": "d66d7726-8950-49a4-9cfd-e4c190bbc876",
   "metadata": {},
   "outputs": [],
   "source": [
    "y_pred = logmodel.predict(X_test)"
   ]
  },
  {
   "cell_type": "code",
   "execution_count": 29,
   "id": "fd04363d-697d-4d1b-af31-9ad6cc0ec987",
   "metadata": {},
   "outputs": [
    {
     "name": "stdout",
     "output_type": "stream",
     "text": [
      "[[1376  110]\n",
      " [ 158  356]]\n"
     ]
    }
   ],
   "source": [
    "from sklearn.metrics import confusion_matrix\n",
    "cm = confusion_matrix(y_test, y_pred)\n",
    "print(cm)"
   ]
  },
  {
   "cell_type": "code",
   "execution_count": 30,
   "id": "81e12441-af03-4ab4-9de2-5ddd7a45a9a3",
   "metadata": {},
   "outputs": [
    {
     "data": {
      "text/plain": [
       "<AxesSubplot:>"
      ]
     },
     "execution_count": 30,
     "metadata": {},
     "output_type": "execute_result"
    },
    {
     "data": {
      "image/png": "[encoded data removed]",
      "text/plain": [
       "<Figure size 432x288 with 2 Axes>"
      ]
     },
     "metadata": {
      "needs_background": "light"
     },
     "output_type": "display_data"
    }
   ],
   "source": [
    "sns.heatmap(cm, annot= True)"
   ]
  },
  {
   "cell_type": "code",
   "execution_count": 31,
   "id": "7ecee6ca-464e-4227-95eb-1f7a3f004e40",
   "metadata": {},
   "outputs": [
    {
     "data": {
      "text/plain": [
       "0.866"
      ]
     },
     "execution_count": 31,
     "metadata": {},
     "output_type": "execute_result"
    }
   ],
   "source": [
    "logmodel.score(X_test, y_test)"
   ]
  },
  {
   "cell_type": "code",
   "execution_count": 33,
   "id": "e625656b-2b9f-4ff2-b7a0-d35185d212a5",
   "metadata": {},
   "outputs": [
    {
     "name": "stdout",
     "output_type": "stream",
     "text": [
      "              precision    recall  f1-score   support\n",
      "\n",
      "           0       0.90      0.93      0.91      1486\n",
      "           1       0.76      0.69      0.73       514\n",
      "\n",
      "    accuracy                           0.87      2000\n",
      "   macro avg       0.83      0.81      0.82      2000\n",
      "weighted avg       0.86      0.87      0.86      2000\n",
      "\n"
     ]
    }
   ],
   "source": [
    "from sklearn.metrics import classification_report\n",
    "print(classification_report(y_test, y_pred))"
   ]
  },
  {
   "cell_type": "markdown",
   "id": "6970a382-a0dd-443c-8284-4166a3e1d43d",
   "metadata": {},
   "source": [
    "RESULTS:\n",
    "- The regression equation for the reduced model\n",
    "y = -4.3230 – 0.2939 * Children + 0.0344 * Age + 0.8200 * Techie_Yes – 2.2628 * Contract_Two Year + 0.1544 * Port_modem_Yes – 2.9596* InternetService_DSL - 0.3399 * Phone_Yes + 0.6240 * Multiple_Yes - 0.8425 * OnlineSecurity_Yes - 0.5401 * DeviceProtection_Yes + 0.1967 * TechSupport_Yes - 0.8883 * Tenure - 0.3938 * Gender_Male + 0.0097 * Bandwidth_GB_Year + 0.7496 * StreamingMovies_Yes\n",
    "- The P-value for all the variables included in the analysis are less than 0.05 and are statistically significant.\n",
    "- The limitation of the analysis is that the sample data isn’t enough, and more data and other variables need to be collected."
   ]
  },
  {
   "cell_type": "code",
   "execution_count": null,
   "id": "e385a26b-c220-481b-b36c-e043bc7647fe",
   "metadata": {},
   "outputs": [],
   "source": []
  }
 ],
 "metadata": {
  "kernelspec": {
   "display_name": "Python 3 (ipykernel)",
   "language": "python",
   "name": "python3"
  },
  "language_info": {
   "codemirror_mode": {
    "name": "ipython",
    "version": 3
   },
   "file_extension": ".py",
   "mimetype": "text/x-python",
   "name": "python",
   "nbconvert_exporter": "python",
   "pygments_lexer": "ipython3",
   "version": "3.9.7"
  }
 },
 "nbformat": 4,
 "nbformat_minor": 5
}
